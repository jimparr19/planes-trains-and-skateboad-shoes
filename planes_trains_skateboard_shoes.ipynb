{
 "cells": [
  {
   "cell_type": "code",
   "execution_count": 2,
   "metadata": {
    "init_cell": true,
    "slideshow": {
     "slide_type": "skip"
    }
   },
   "outputs": [
    {
     "data": {
      "application/javascript": [
       "IPython.notebook.execute_cells_below()"
      ],
      "text/plain": [
       "<IPython.core.display.Javascript object>"
      ]
     },
     "metadata": {},
     "output_type": "display_data"
    },
    {
     "data": {
      "application/javascript": [
       "IPython.notebook.execute_cells_below()"
      ],
      "text/plain": [
       "<IPython.core.display.Javascript object>"
      ]
     },
     "metadata": {},
     "output_type": "display_data"
    }
   ],
   "source": [
    "from IPython.display import Javascript\n",
    "display(Javascript('IPython.notebook.execute_cells_below()'))"
   ]
  },
  {
   "cell_type": "markdown",
   "metadata": {
    "slideshow": {
     "slide_type": "slide"
    }
   },
   "source": [
    "<img src=\"img/title.png\" style=\"width: 50%;\"/>"
   ]
  },
  {
   "cell_type": "markdown",
   "metadata": {
    "slideshow": {
     "slide_type": "slide"
    }
   },
   "source": [
    "<img src=\"img/examples.png\" style=\"width: 100%;\"/>"
   ]
  },
  {
   "cell_type": "code",
   "execution_count": null,
   "metadata": {
    "slideshow": {
     "slide_type": "skip"
    }
   },
   "outputs": [],
   "source": [
    "import numpy as np\n",
    "import matplotlib.pylab as plt\n",
    "import scipy.optimize as so\n",
    "from pyDOE import lhs"
   ]
  },
  {
   "cell_type": "code",
   "execution_count": null,
   "metadata": {
    "slideshow": {
     "slide_type": "skip"
    }
   },
   "outputs": [],
   "source": [
    "def simple_model(x):\n",
    "    f = ((6*x - 2)**2) * np.sin(12*x - 4) \n",
    "    return f"
   ]
  },
  {
   "cell_type": "code",
   "execution_count": null,
   "metadata": {
    "slideshow": {
     "slide_type": "skip"
    }
   },
   "outputs": [],
   "source": [
    "class GaussianProcess():\n",
    "    def __init__(self, x, y):\n",
    "        self.x = x\n",
    "        self.y = y\n",
    "        self.eps = np.finfo(float).eps\n",
    "\n",
    "    def get_covar(self, x, theta):\n",
    "        n, m = x.shape\n",
    "        K = np.zeros((n, n))\n",
    "        for i in range(n):\n",
    "            for j in range(i+1, n):\n",
    "                D = (1/theta[0:m]) * (x[i] - x[j]) ** 2\n",
    "                K[i,j] = np.exp(-sum(D))\n",
    "                K[j,i] = K[i,j]\n",
    "        return K + theta[m]*np.eye(n) + np.eye(n)\n",
    "    \n",
    "    def train(self):\n",
    "        n, m = self.x.shape\n",
    "        bounds = list(zip([0.01]*m, [10]*m))\n",
    "        bounds.append((self.eps, np.var(self.y)))\n",
    "        x0 = [0.1] * m \n",
    "        x0.append(10e-6 * np.var(self.y))\n",
    "        result = so.minimize(self._nl, x0=x0, bounds=bounds)\n",
    "        self.theta = result.x\n",
    "        \n",
    "    def _nl(self, theta):\n",
    "        n, m = self.x.shape\n",
    "        K = self.get_covar(self.x, theta)\n",
    "        try:\n",
    "            L = np.linalg.cholesky(K)\n",
    "        except np.linalg.linalg.LinAlgError:\n",
    "            return 10e4\n",
    "        Ly = np.linalg.solve(L, self.y)\n",
    "        _, ldetK = np.linalg.slogdet(K)\n",
    "        ll = -(n/2) * np.log(np.dot(Ly.T, np.linalg.solve(L, self.y))) - (1/2) * ldetK\n",
    "        return -ll \n",
    "        \n",
    "    def predict(self, xpred):\n",
    "        n, m = self.x.shape\n",
    "        if self.theta is None:\n",
    "            raise 'Need to train before predict'\n",
    "        K = self.get_covar(self.x, self.theta)\n",
    "        K_xpred = self.get_covar(xpred, self.theta)\n",
    "\n",
    "        npred = len(xpred)\n",
    "        K_aug = np.zeros((npred, n))\n",
    "        for i in range(npred):\n",
    "            for j in range(n):\n",
    "                D = (1/self.theta[0:m]) * (xpred[i] - self.x[j]) ** 2\n",
    "                K_aug[i,j] = np.exp(-sum(D))\n",
    "                \n",
    "        # using chol\n",
    "        L = np.linalg.cholesky(K)\n",
    "        Lr = np.linalg.solve(L, K_aug.T)\n",
    "        mubar = np.dot(Lr.T, np.linalg.solve(L, self.y))\n",
    "        s2bar = np.clip(K_xpred - np.dot(Lr.T, np.linalg.solve(L, K_aug.T)), 1e-10, np.inf)\n",
    "        sbar = np.sqrt(np.abs(np.diag(s2bar)))\n",
    "        return mubar.flatten(), sbar.flatten()\n",
    "    \n",
    "    def CDF(self, x):\n",
    "        return 0.5 * (1 + self.erf(x * np.sqrt(2))) \n",
    "            \n",
    "    def PDF(self, x):\n",
    "        return np.exp(-0.5 * x**2) / np.sqrt(2*np.pi)\n",
    "    \n",
    "    def erf(self, z):\n",
    "        t = 1.0 / (1.0 + 0.5 * np.abs(z))\n",
    "        # use Horner's method\n",
    "        ans = 1 - t * np.exp( -z*z -  1.26551223 +\n",
    "                                    t * ( 1.00002368 +\n",
    "                                    t * ( 0.37409196 + \n",
    "                                    t * ( 0.09678418 + \n",
    "                                    t * (-0.18628806 + \n",
    "                                    t * ( 0.27886807 + \n",
    "                                    t * (-1.13520398 + \n",
    "                                    t * ( 1.48851587 + \n",
    "                                    t * (-0.82215223 + \n",
    "                                    t * ( 0.17087277))))))))))\n",
    "        \n",
    "        if isinstance(ans, np.float64): \n",
    "            if z < 0.0:\n",
    "                ans = -ans\n",
    "        else:\n",
    "            ans[z<0.0] = -ans[z<0.0]            \n",
    "        return ans\n",
    "    \n",
    "    def ei(self, xpred):\n",
    "        ypred, spred = self.predict(xpred)            \n",
    "        ymin = min(self.y)\n",
    "        ydiff = ymin - ypred\n",
    "        Z = ydiff / spred\n",
    "        exp_imp = (ydiff * self.CDF(Z)) + (spred * self.PDF(Z))\n",
    "        return exp_imp\n",
    "    \n",
    "    def negei(self, xpred):\n",
    "        exp_imp = self.ei(np.array([xpred]))\n",
    "        return -exp_imp\n",
    "    \n",
    "    def add_data(self, x, y):\n",
    "        self.x = np.vstack([self.x, x])\n",
    "        self.y = np.vstack([self.y, y])\n",
    "        self.train()  "
   ]
  },
  {
   "cell_type": "code",
   "execution_count": null,
   "metadata": {
    "slideshow": {
     "slide_type": "skip"
    }
   },
   "outputs": [],
   "source": [
    "def multistart_minimize(fun, bounds):\n",
    "    m = len(bounds)\n",
    "    n_starts = m * 20\n",
    "    random_starts = lhs(m,n_starts)#np.random.uniform(size=(n_starts,m)) #need to scale this to x\n",
    "    starts = np.zeros((n_starts,m))\n",
    "    for d in range(m):\n",
    "        lb = bounds[d][0]\n",
    "        ub = bounds[d][1]\n",
    "        starts[:,d] = random_starts[:,d] * (ub - lb) + lb\n",
    "    ymin = np.inf\n",
    "    xmin = 0\n",
    "    for start in starts:\n",
    "        result = so.minimize(fun, x0=start, bounds=bounds)\n",
    "        if result.fun < ymin:\n",
    "            ymin = result.fun\n",
    "            xmin = np.array(result.x)\n",
    "    return xmin, ymin"
   ]
  },
  {
   "cell_type": "code",
   "execution_count": null,
   "metadata": {
    "slideshow": {
     "slide_type": "skip"
    }
   },
   "outputs": [],
   "source": [
    "from ipywidgets import widgets\n",
    "from IPython.display import display,clear_output\n",
    "\n",
    "%matplotlib inline\n",
    "plt.rcParams['figure.figsize'] = (20, 8)\n",
    "#%config InlineBackend.close_figures=False # To prevent automatic figure display when execution of the cell ends\n",
    "\n",
    "np.random.seed(1317)\n",
    "n_obs = 5\n",
    "x_obs = lhs(1, n_obs)\n",
    "y_obs = simple_model(x_obs)\n",
    "gp = GaussianProcess(x=x_obs, y=y_obs)\n",
    "gp.train()\n",
    "\n",
    "ni = 100\n",
    "xi = np.linspace(0,1,ni).reshape(ni,1)\n",
    "yi = simple_model(xi)\n",
    "\n",
    "mubar, sbar = gp.predict(xi)\n",
    "ei = gp.ei(xi)\n",
    "\n",
    "class Clicks:\n",
    "    def __init__(self, gp):\n",
    "        self.gp = gp\n",
    "        self.i = 0\n",
    "    \n",
    "    def click(self, b):\n",
    "        if b is None:\n",
    "            mubar = np.zeros(len(xi))\n",
    "            sbar = np.ones(len(xi))\n",
    "            ax1.scatter(-1,-1, label='Observations')\n",
    "            ax1.plot(xi, yi, color=(0.8, 0.8, 0.8), label='True (unknown) function')\n",
    "            ax1.plot(xi, mubar, color=(0.122, 0.529, 0.8), label='GP prediction')\n",
    "            ax1.fill_between(xi.flatten(), mubar+3*sbar, mubar-3*sbar, color=(0.122, 0.529, 0.8, 0.2))\n",
    "            ax1.set_xlim(0,1)\n",
    "            ax1.set_xlabel('Design parameter value $x_1$')\n",
    "            ax1.set_ylabel('Objective value $f(x_1)$')\n",
    "            ax1.legend()\n",
    "            ax1.set_title('Observations and GP prediction')\n",
    "            ax2.set_xlim(0,1)\n",
    "            ax2.axis('off')\n",
    "        else:\n",
    "            if self.i == 0:\n",
    "                mubar, sbar = gp.predict(xi)\n",
    "                ei = gp.ei(xi)\n",
    "                \n",
    "                ax1.clear()\n",
    "                ax2.clear()\n",
    "                ax1.scatter(self.gp.x, self.gp.y, label='Observations')\n",
    "                ax1.plot(xi, yi, color=(0.8, 0.8, 0.8), label='True (unknown) function')\n",
    "                ax1.plot(xi, mubar, color=(0.122, 0.529, 0.8), label='GP prediction')\n",
    "                ax1.fill_between(xi.flatten(), mubar+3*sbar, mubar-3*sbar, color=(0.122, 0.529, 0.8, 0.2))\n",
    "                ax1.set_xlim(0,1)\n",
    "                ax1.set_xlabel('Design parameter value $x_1$')\n",
    "                ax1.set_ylabel('Objective value $f(x_1)$')\n",
    "                ax1.legend()\n",
    "                ax1.set_title('Observations and GP prediction')\n",
    "                ax2.plot(xi, ei, color=(1.0, 0.56, 0.06))\n",
    "                ax2.set_title('Acquisition function')\n",
    "                ax2.set_xlim(0,1)\n",
    "                ax2.set_xlabel('Design parameter value $x_1$')\n",
    "                ax2.set_ylabel('Expected improvement $EI(f(x_1) < y_{min})$')\n",
    "                self.i = 1\n",
    "            else:\n",
    "                newx, _ = multistart_minimize(self.gp.negei, bounds=[(0,1)])\n",
    "                newy = simple_model(newx)\n",
    "                self.gp.add_data(newx, newy)\n",
    "                mubar, sbar = gp.predict(xi)\n",
    "                ei = gp.ei(xi)\n",
    "\n",
    "                ax1.clear()\n",
    "                ax2.clear()\n",
    "                ax1.scatter(self.gp.x, self.gp.y, label='Observations')\n",
    "                ax1.plot(xi, yi, color=(0.8, 0.8, 0.8), label='True (unknown) function')\n",
    "                ax1.plot(xi, mubar, color=(0.122, 0.529, 0.8), label='GP prediction')\n",
    "                ax1.fill_between(xi.flatten(), mubar+3*sbar, mubar-3*sbar, color=(0.122, 0.529, 0.8, 0.2))\n",
    "                ax1.set_xlim(0,1)\n",
    "                ax1.set_xlabel('Design parameter value $x_1$')\n",
    "                ax1.set_ylabel('Objective value $f(x_1)$')\n",
    "                ax1.legend()\n",
    "                ax1.set_title('Observations and GP prediction')\n",
    "                ax2.plot(xi, ei, color=(1.0, 0.56, 0.06))\n",
    "                ax2.set_title('Acquisition function')\n",
    "                ax2.set_xlim(0,1)\n",
    "                ax2.set_xlabel('Design parameter value $x_1$')\n",
    "                ax2.set_ylabel('Expected improvement $EI(f(x_1) < y_{min})$')\n",
    "        with out:\n",
    "            clear_output(wait=True)\n",
    "            display(ax.figure)\n",
    "\n",
    "plt.ioff()\n",
    "ax = plt.gca()\n",
    "ax1 = plt.subplot(121)\n",
    "ax2 = plt.subplot(122)\n",
    "\n",
    "out = widgets.Output()\n",
    "button = widgets.Button(description='Add update')\n",
    "\n",
    "box=widgets.VBox(children=(out,button))\n",
    "\n",
    "clicks = Clicks(gp)\n",
    "button.on_click(clicks.click)"
   ]
  },
  {
   "cell_type": "code",
   "execution_count": null,
   "metadata": {
    "slideshow": {
     "slide_type": "slide"
    }
   },
   "outputs": [],
   "source": [
    "display(box)\n",
    "clicks.click(None)"
   ]
  },
  {
   "cell_type": "markdown",
   "metadata": {
    "slideshow": {
     "slide_type": "slide"
    }
   },
   "source": [
    "### A light introduction to Gaussian processes"
   ]
  },
  {
   "cell_type": "code",
   "execution_count": null,
   "metadata": {
    "slideshow": {
     "slide_type": "slide"
    }
   },
   "outputs": [],
   "source": [
    "import numpy as np\n",
    "import matplotlib.pylab as plt"
   ]
  },
  {
   "cell_type": "code",
   "execution_count": null,
   "metadata": {
    "slideshow": {
     "slide_type": "skip"
    }
   },
   "outputs": [],
   "source": [
    "def get_pdf(bins, mu, sigma):\n",
    "    return 1 / (sigma * np.sqrt(2 * np.pi)) * np.exp(- (bins-mu)**2 / (2 * sigma**2) )"
   ]
  },
  {
   "cell_type": "markdown",
   "metadata": {
    "slideshow": {
     "slide_type": "slide"
    }
   },
   "source": [
    "$\\mathcal{N}\\left(\\left[\n",
    "\\begin{matrix} \\mu_1 \\\\ \\mu_2 \\end{matrix}\n",
    "\\right],\\left[\n",
    "\\begin{matrix} \\Sigma_{11} & \\Sigma_{12} \\\\ \\Sigma_{21} & \\Sigma_{22} \\end{matrix}\n",
    "\\right]\\right)$"
   ]
  },
  {
   "cell_type": "code",
   "execution_count": null,
   "metadata": {
    "slideshow": {
     "slide_type": "slide"
    }
   },
   "outputs": [],
   "source": [
    "mu1, sigma1 = 0, 1\n",
    "mu2, sigma2 = 0, 1\n",
    "mu = [mu1, mu2]\n",
    "\n",
    "rho = 0.7\n",
    "cov = [[sigma1 **2 , rho*sigma1*sigma2], [rho*sigma1*sigma2, sigma2**2]]\n",
    "\n",
    "# make realisations\n",
    "n_realisations = 5000\n",
    "samples = np.random.multivariate_normal(mu, cov, n_realisations)"
   ]
  },
  {
   "cell_type": "code",
   "execution_count": null,
   "metadata": {
    "slideshow": {
     "slide_type": "skip"
    }
   },
   "outputs": [],
   "source": [
    "mv_fig = plt.figure(figsize=(10, 10))\n",
    "plt.xlabel('$x_1$')\n",
    "plt.ylabel('$x_2$')\n",
    "plt.axis('square')\n",
    "plt.xlim(-5, 5)\n",
    "plt.ylim(-5, 5)\n",
    "plt.scatter(samples[:,0], samples[:,1], color=(0.5,0.5,0.5,0.1), label='samples')\n",
    "plt.legend()"
   ]
  },
  {
   "cell_type": "code",
   "execution_count": null,
   "metadata": {
    "scrolled": false,
    "slideshow": {
     "slide_type": "slide"
    }
   },
   "outputs": [],
   "source": [
    "mv_fig"
   ]
  },
  {
   "cell_type": "code",
   "execution_count": null,
   "metadata": {
    "slideshow": {
     "slide_type": "skip"
    }
   },
   "outputs": [],
   "source": [
    "samples_y1 = samples[:,0]\n",
    "samples_y2 = samples[:,1]\n",
    "\n",
    "_, bins_y1 = np.histogram(samples_y1, 30)\n",
    "_, bins_y2 = np.histogram(samples_y2, 30)\n",
    "\n",
    "marg_fig = plt.figure(figsize=(20, 10))\n",
    "plt.subplot(121)\n",
    "plt.xlabel('$x_1$')\n",
    "plt.ylabel('$x_2$')\n",
    "plt.xlim(-5, 5)\n",
    "plt.ylim(-5, 5)\n",
    "plt.scatter(samples_y1, samples_y2, color=(0.5,0.5,0.5,0.1), label='samples')\n",
    "plt.plot(bins_y1, 10 * get_pdf(bins_y1, mu1, sigma1) - 5, linewidth=2, color='r',label='marginal pdf')\n",
    "plt.plot(10 * get_pdf(bins_y2, mu2, sigma2) - 5, bins_y2, linewidth=2, color='r')\n",
    "plt.legend(loc=2)\n",
    "plt.subplot(122)\n",
    "plt.plot([np.ones(n_realisations), 2*np.ones(n_realisations)], [samples_y1, samples_y2], color=(0.5,0.5,0.5,0.1))\n",
    "plt.ylim(-5, 5)\n",
    "plt.xticks([1,2],['$x_1$', '$x_2$'])"
   ]
  },
  {
   "cell_type": "code",
   "execution_count": null,
   "metadata": {
    "scrolled": false,
    "slideshow": {
     "slide_type": "slide"
    }
   },
   "outputs": [],
   "source": [
    "marg_fig"
   ]
  },
  {
   "cell_type": "code",
   "execution_count": null,
   "metadata": {
    "slideshow": {
     "slide_type": "skip"
    }
   },
   "outputs": [],
   "source": [
    "cond_fig = plt.figure(figsize=(20, 10))\n",
    "\n",
    "plt.subplot(121)\n",
    "plt.xlabel('$x_1$')\n",
    "plt.ylabel('$x_2$')\n",
    "plt.xlim(-5, 5)\n",
    "plt.ylim(-5, 5)\n",
    "plt.scatter(samples[:,0], samples[:,1], color=(0.9,0.9,0.9,0.1))\n",
    "plt.plot(bins_y1, 10 * get_pdf(bins_y1, mu1, sigma1) - 5, linewidth=2, color=(1,0,0,0.1))\n",
    "plt.plot(10 * get_pdf(bins_y2, mu2, sigma2) - 5, bins_y2, linewidth=2, color=(1,0,0,0.1))\n",
    "\n",
    "# get conditional mean and sigma (using bivariate derivation)\n",
    "y2 = 1\n",
    "mu1_2 = mu1 + (sigma1/sigma2) * rho * (y2 - mu2)\n",
    "sigma1_2 = np.sqrt((1 - rho**2) * sigma1**2)\n",
    "\n",
    "samples1_2 = np.random.normal(loc=mu1_2, scale=sigma1_2, size=n_realisations)\n",
    "plt.scatter(samples1_2, np.ones(n_realisations)*y2, color=(0.5, 0.5, 0.5, 0.1), label='conditional samples')\n",
    "\n",
    "_, bins_y1_2 = np.histogram(samples1_2, 30)\n",
    "plt.plot(bins_y1_2, 10 * get_pdf(bins_y1_2, mu1_2, sigma1_2) - 5, linewidth=2, color='b', label='conditional pdf')\n",
    "plt.legend(loc=2)\n",
    "\n",
    "\n",
    "plt.subplot(122)\n",
    "plt.plot([np.ones(n_realisations), 2*np.ones(n_realisations)], [samples1_2, np.ones(n_realisations)*y2], color=(0.5,0.5,0.5,0.1))\n",
    "plt.ylim(-5, 5)\n",
    "plt.xticks([1,2],['$x_1$', '$x_2$'])"
   ]
  },
  {
   "cell_type": "code",
   "execution_count": null,
   "metadata": {
    "slideshow": {
     "slide_type": "slide"
    }
   },
   "outputs": [],
   "source": [
    "cond_fig"
   ]
  },
  {
   "cell_type": "markdown",
   "metadata": {
    "slideshow": {
     "slide_type": "slide"
    }
   },
   "source": [
    "$\\mathcal{GP}\\left(\\left[\n",
    "\\begin{matrix} \\mu(x_1) \\\\ ... \\\\ \\mu(x_n) \\end{matrix}\n",
    "\\right],\\left[\n",
    "\\begin{matrix} \\Sigma(x_1,x_1) & ... & \\Sigma(x_1,x_n) \\\\ ... & ... & ...\\\\ \\Sigma(x_n,x_1) & ... & \\Sigma(x_n,x_n) \\end{matrix}\n",
    "\\right]\\right)$"
   ]
  },
  {
   "cell_type": "code",
   "execution_count": null,
   "metadata": {
    "slideshow": {
     "slide_type": "slide"
    }
   },
   "outputs": [],
   "source": [
    "n = 100\n",
    "x = np.linspace(0, 2*np.pi, n)  \n",
    "\n",
    "# build mean function\n",
    "mu = np.zeros(n) * x \n",
    "\n",
    "# build co-variance\n",
    "D = np.zeros((n, n))\n",
    "for i in range(n):\n",
    "    for j in range(i+1, n):\n",
    "        D[i,j] = (x[i] - x[j]) ** 2\n",
    "        D[j,i] = D[i,j]\n",
    "sigma = np.exp(-D)\n",
    "\n",
    "# make realisations\n",
    "n_realisations = 10\n",
    "Y = np.random.multivariate_normal(mu, sigma, n_realisations)"
   ]
  },
  {
   "cell_type": "code",
   "execution_count": null,
   "metadata": {
    "slideshow": {
     "slide_type": "skip"
    }
   },
   "outputs": [],
   "source": [
    "def plot_gp(n_realisations):\n",
    "    Y = np.random.multivariate_normal(mu, sigma, size=n_realisations)\n",
    "    gp_no_data = plt.figure(figsize=(15, 10))\n",
    "    plt.ylabel('$y$')\n",
    "    plt.xlabel('$x$')\n",
    "    plt.xlim((0, 2*np.pi))\n",
    "    plt.plot(x, Y.T, color=(0.2,0.2,0.2,0.2))\n",
    "    return gp_no_data"
   ]
  },
  {
   "cell_type": "code",
   "execution_count": null,
   "metadata": {
    "slideshow": {
     "slide_type": "slide"
    }
   },
   "outputs": [],
   "source": [
    "plot_gp(100)"
   ]
  },
  {
   "cell_type": "code",
   "execution_count": null,
   "metadata": {
    "slideshow": {
     "slide_type": "skip"
    }
   },
   "outputs": [],
   "source": [
    "def plot_cond_gp(n_obs):\n",
    "    \n",
    "    n = 100 # number of points to evaluate\n",
    "    x = np.linspace(0, 2*np.pi, n)  \n",
    "\n",
    "    D = np.zeros((n, n))\n",
    "    for i in range(n):\n",
    "        for j in range(i+1, n):\n",
    "            D[i,j] = (x[i] - x[j]) ** 2\n",
    "            D[j,i] = D[i,j]\n",
    "\n",
    "    sigma = np.exp(-D)\n",
    "    \n",
    "    x_obs = np.random.uniform(size=n_obs) * 2*np.pi\n",
    "    y_obs = np.sin(x_obs)\n",
    "\n",
    "    D_obs = np.zeros((n_obs, n_obs))\n",
    "    for i in range(n_obs):\n",
    "        for j in range(i+1, n_obs):\n",
    "            D_obs[i,j] = (x_obs[i] - x_obs[j]) ** 2\n",
    "            D_obs[j,i] = D_obs[i,j]\n",
    "\n",
    "    sigma_obs = np.exp(-D_obs)\n",
    "    sigma_obsi = np.linalg.inv(sigma_obs)\n",
    "\n",
    "    D_aug = np.zeros((n, n_obs))\n",
    "    for i in range(n):\n",
    "        for j in range(n_obs):\n",
    "            D_aug[i,j] = (x[i] - x_obs[j]) ** 2\n",
    "\n",
    "    sigma_aug = np.exp(-D_aug)\n",
    "    \n",
    "    mubar = np.linalg.multi_dot([sigma_aug, sigma_obsi, y_obs])\n",
    "    sigmabar = sigma - np.linalg.multi_dot([sigma_aug, sigma_obsi, sigma_aug.T])\n",
    "\n",
    "    Ybar = np.random.multivariate_normal(mubar, sigmabar, size=100)\n",
    "\n",
    "    cond_gp = plt.figure(figsize=(15, 10))\n",
    "    plt.ylabel('$y$')\n",
    "    plt.xlabel('$x$')\n",
    "    plt.scatter(x_obs, y_obs, color='blue')\n",
    "    plt.plot(x, Ybar.T, color=(0.2,0.2,0.2,0.1))\n",
    "    plt.xlim((0, 2*np.pi))\n",
    "    return cond_gp"
   ]
  },
  {
   "cell_type": "code",
   "execution_count": null,
   "metadata": {
    "slideshow": {
     "slide_type": "slide"
    }
   },
   "outputs": [],
   "source": [
    "plot_cond_gp(5)"
   ]
  },
  {
   "cell_type": "markdown",
   "metadata": {
    "slideshow": {
     "slide_type": "slide"
    }
   },
   "source": [
    "## Choosing where to generate data"
   ]
  },
  {
   "cell_type": "code",
   "execution_count": null,
   "metadata": {
    "slideshow": {
     "slide_type": "skip"
    }
   },
   "outputs": [],
   "source": [
    "def plot_cond_gp_ei(n_obs):\n",
    "    \n",
    "    n = 100 # number of points to evaluate\n",
    "    x = np.linspace(0, 2*np.pi, n)  \n",
    "\n",
    "    D = np.zeros((n, n))\n",
    "    for i in range(n):\n",
    "        for j in range(i+1, n):\n",
    "            D[i,j] = (x[i] - x[j]) ** 2\n",
    "            D[j,i] = D[i,j]\n",
    "\n",
    "    sigma = np.exp(-D)\n",
    "    \n",
    "    x_obs = np.random.uniform(size=n_obs) * 2*np.pi\n",
    "    y_obs = np.sin(x_obs)\n",
    "\n",
    "    D_obs = np.zeros((n_obs, n_obs))\n",
    "    for i in range(n_obs):\n",
    "        for j in range(i+1, n_obs):\n",
    "            D_obs[i,j] = (x_obs[i] - x_obs[j]) ** 2\n",
    "            D_obs[j,i] = D_obs[i,j]\n",
    "\n",
    "    sigma_obs = np.exp(-D_obs)\n",
    "    sigma_obsi = np.linalg.inv(sigma_obs)\n",
    "\n",
    "    D_aug = np.zeros((n, n_obs))\n",
    "    for i in range(n):\n",
    "        for j in range(n_obs):\n",
    "            D_aug[i,j] = (x[i] - x_obs[j]) ** 2\n",
    "\n",
    "    sigma_aug = np.exp(-D_aug)\n",
    "    \n",
    "    mubar = np.linalg.multi_dot([sigma_aug, sigma_obsi, y_obs])\n",
    "    sigmabar = sigma - np.linalg.multi_dot([sigma_aug, sigma_obsi, sigma_aug.T])\n",
    "\n",
    "    Ybar = np.random.multivariate_normal(mubar, sigmabar, size=100)\n",
    "\n",
    "    cond_gp_ei = plt.figure(figsize=(20, 8))\n",
    "    plt.subplot(121)\n",
    "    plt.ylabel('$y$')\n",
    "    plt.xlabel('$x$')\n",
    "    plt.scatter(x_obs, y_obs, color='blue')\n",
    "    plt.plot(x, Ybar.T, color=(0.2,0.2,0.2,0.1))\n",
    "    plt.xlim((0, 2*np.pi))\n",
    "    \n",
    "    plt.subplot(122)\n",
    "    plt.xlabel('$x$')\n",
    "    plt.ylabel('$P(y<y_{min})$')\n",
    "    pi = sum(Ybar < min(y_obs)) / len(x)\n",
    "    plt.plot(x, pi, color=(1.0, 0.56, 0.06))\n",
    "    plt.xlim((0, 2*np.pi))\n",
    "    return cond_gp_ei"
   ]
  },
  {
   "cell_type": "code",
   "execution_count": null,
   "metadata": {},
   "outputs": [],
   "source": [
    "plot_cond_gp_ei(5)"
   ]
  },
  {
   "cell_type": "markdown",
   "metadata": {
    "slideshow": {
     "slide_type": "slide"
    }
   },
   "source": [
    "### Other aquisition functions\n",
    "`pure exploitation`\n",
    "\n",
    "`pure exploration`\n",
    "\n",
    "`constrained`\n",
    "\n",
    "`multiobjective`\n",
    "\n",
    "`noisy`\n",
    "\n",
    "`stochastic`"
   ]
  },
  {
   "cell_type": "markdown",
   "metadata": {
    "slideshow": {
     "slide_type": "slide"
    }
   },
   "source": [
    "## Using Bayesian optimisation to design a ducted fan"
   ]
  },
  {
   "cell_type": "markdown",
   "metadata": {
    "slideshow": {
     "slide_type": "slide"
    }
   },
   "source": [
    "<img src=\"img/ductscene.png\" style=\"width: 1000px; margin-left: auto; margin-right: auto;\"/>"
   ]
  },
  {
   "cell_type": "code",
   "execution_count": null,
   "metadata": {
    "slideshow": {
     "slide_type": "skip"
    }
   },
   "outputs": [],
   "source": [
    "import scipy.special as sps\n",
    "\n",
    "def class_shape_transform(parameters, te_thickness, bernstein_order, n_1, n_2, x_coordinates):\n",
    "    shape_function = np.zeros((len(parameters), len(x_coordinates)))\n",
    "    for iparam in range(len(parameters)):\n",
    "        k = sps.comb(bernstein_order, iparam)\n",
    "        shape_function[iparam,] = parameters[iparam] * k * (x_coordinates**iparam) * ((1 - x_coordinates)**(bernstein_order - iparam))\n",
    "    \n",
    "    z_coordinates = (x_coordinates**n_1) * ((1-x_coordinates)**n_2) * np.sum(shape_function,0) + x_coordinates*0.5*te_thickness;\n",
    "    return z_coordinates \n",
    "    \n",
    "def angle_of_attack_transform(coordinates, aoa):\n",
    "    aoa_rad = np.deg2rad(aoa)\n",
    "    rotation_matrix = np.array([[np.cos(aoa_rad), -np.sin(aoa_rad)],[np.sin(aoa_rad), np.cos(aoa_rad)]])\n",
    "    return np.dot(coordinates.T, rotation_matrix)\n",
    "    \n",
    "def point_of_inflection(parameters, te_thickness, bernstein_order, n_1, n_2, x_coordinates, aoa):\n",
    "    z_coordinates = -class_shape_transform(parameters, te_thickness, bernstein_order, n_1, n_2, x_coordinates)\n",
    "    coordinates = np.array([x_coordinates, z_coordinates]) \n",
    "    coordinates_transform = angle_of_attack_transform(coordinates, aoa)   \n",
    "    dzdx = np.diff(coordinates_transform[:,1])\n",
    "    for ipoint in range(len(dzdx)):\n",
    "        if dzdx[ipoint] > 0 or dzdx[ipoint] == max(dzdx):\n",
    "            break\n",
    "    return np.reshape(coordinates_transform[ipoint,:],2)"
   ]
  },
  {
   "cell_type": "code",
   "execution_count": null,
   "metadata": {
    "slideshow": {
     "slide_type": "skip"
    }
   },
   "outputs": [],
   "source": [
    "bernstein_order_upper = 1\n",
    "bernstein_order_lower = 3\n",
    "n_1 = 0.5\n",
    "n_2 = 1\n",
    "x_coordinates = np.arange(0, 1.01, 0.01)\n",
    "te_thickness = 0.02\n",
    "blade_radius = 101.6 #mm\n",
    "tip_gap_ratio = 0.02\n",
    "tip_gap_at_fan_location = tip_gap_ratio * blade_radius\n",
    "rotate_rad = np.deg2rad(-90)\n",
    "rotation_matrix = np.array([[np.cos(rotate_rad), -np.sin(rotate_rad)],[np.sin(rotate_rad), np.cos(rotate_rad)]]).T\n",
    "\n",
    "bu1 = widgets.FloatSlider(value=0.15, min=0.1, max=0.2, step=0.001, description='upper leading edge')\n",
    "bu2 = widgets.FloatSlider(value=0.2, min=0.1, max=0.3, step=0.001, description='upper botail')\n",
    "bl1 = widgets.FloatSlider(value=0.4, min=0.3, max=0.5, step=0.001, description='lower leading edge')\n",
    "bl2 = widgets.FloatSlider(value=0.1, min=0.05, max=0.25, step=0.001, description='lower forebody')\n",
    "bl3 = widgets.FloatSlider(value=0.2, min=0.1, max=0.3, step=0.001, description='lower aftbody')\n",
    "bl4 = widgets.FloatSlider(value=0.15, min=0.05, max=0.25, step=0.001, description='lower botail')\n",
    "aoa = widgets.FloatSlider(value=4, min=0, max=6, step=0.1, description='angle of attack')          \n",
    "btoc = widgets.FloatSlider(value=2, min=1, max=4, step=0.1, description='blade to chord ratio')              \n",
    "\n",
    "plt.close()\n",
    "plt.cla()\n",
    "plt.clf()\n",
    "du_ax = plt.gca()\n",
    "\n",
    "\n",
    "def plot_duct(bu1, bu2, bl1, bl2, bl3, bl4, aoa, btoc):\n",
    "    parameters_upper = np.array([bu1, bu2])\n",
    "    parameters_lower = np.array([bl1, bl2, bl3, bl4])\n",
    "    z_coordinates_upper = class_shape_transform(parameters_upper, te_thickness, bernstein_order_upper, n_1, n_2, x_coordinates)\n",
    "    z_coordinates_lower = -class_shape_transform(parameters_lower, te_thickness, bernstein_order_lower, n_1, n_2, x_coordinates)\n",
    "    upper_coordinates = angle_of_attack_transform(np.array([x_coordinates, z_coordinates_upper]), aoa)\n",
    "    lower_coordinates = angle_of_attack_transform(np.array([x_coordinates, z_coordinates_lower]), aoa)\n",
    "    fan_location = point_of_inflection(parameters_lower, te_thickness, bernstein_order_lower, n_1, n_2, np.arange(0, 1.01, 0.01), aoa) \n",
    "    chord = blade_radius / btoc\n",
    "    le_radius = blade_radius + abs(fan_location[1]*chord) + tip_gap_at_fan_location\n",
    "    x_fan = fan_location[0] * chord\n",
    "    z_fan = le_radius\n",
    "    du_ax.clear()\n",
    "    du_ax.axis('equal')\n",
    "    du_ax.axis('off')\n",
    "    du_ax.plot([-blade_radius, blade_radius], [0, 0], color='k')\n",
    "    upper_surface1_rot = np.dot(np.vstack([upper_coordinates[:,0]*chord - x_fan, upper_coordinates[:,1]*chord + z_fan]).T, rotation_matrix)\n",
    "    du_ax.plot(upper_surface1_rot[:,0], upper_surface1_rot[:,1], color='grey')\n",
    "    lower_surface1_rot = np.dot(np.vstack([lower_coordinates[:,0]*chord - x_fan, lower_coordinates[:,1]*chord + z_fan]).T, rotation_matrix)\n",
    "    du_ax.plot(lower_surface1_rot[:,0], lower_surface1_rot[:,1], color='grey')\n",
    "    du_ax.fill_betweenx(upper_surface1_rot[:,1], upper_surface1_rot[:,0], lower_surface1_rot[:,0], color='grey', alpha='0.5')\n",
    "    upper_surface2_rot = np.dot(np.vstack([upper_coordinates[:,0]*chord - x_fan, -upper_coordinates[:,1]*chord - 2*le_radius + z_fan]).T, rotation_matrix)\n",
    "    du_ax.plot(upper_surface2_rot[:,0], upper_surface2_rot[:,1], color='grey')\n",
    "    lower_surface2_rot = np.dot(np.vstack([lower_coordinates[:,0]*chord - x_fan, -lower_coordinates[:,1]*chord - 2*le_radius + z_fan]).T, rotation_matrix)\n",
    "    du_ax.plot(lower_surface2_rot[:,0], lower_surface2_rot[:,1], color='grey')\n",
    "    du_ax.fill_betweenx(upper_surface2_rot[:,1], upper_surface2_rot[:,0], lower_surface2_rot[:,0], color='grey', alpha='0.5')\n",
    "    display(du_ax.figure)\n",
    "\n",
    "duct_out = widgets.interactive_output(plot_duct, {'bu1':bu1, 'bu2':bu2, 'bl1':bl1, 'bl2':bl2, 'bl3':bl3, 'bl4':bl4, 'aoa':aoa, 'btoc':btoc})\n",
    "duct_box = widgets.HBox([widgets.VBox([bu1, bu2, bl1, bl2, bl3, bl4, aoa, btoc]), duct_out])"
   ]
  },
  {
   "cell_type": "code",
   "execution_count": null,
   "metadata": {
    "slideshow": {
     "slide_type": "slide"
    }
   },
   "outputs": [],
   "source": [
    "display(duct_box)"
   ]
  },
  {
   "cell_type": "markdown",
   "metadata": {
    "slideshow": {
     "slide_type": "slide"
    }
   },
   "source": [
    "<img src=\"img/fan_overview.png\" style=\"width: 100%; margin-left: auto; margin-right: auto;\"/>"
   ]
  },
  {
   "cell_type": "markdown",
   "metadata": {
    "slideshow": {
     "slide_type": "slide"
    }
   },
   "source": [
    "<img src=\"img/animated.gif\" style=\"height: 1000px; margin-left: auto; margin-right: auto;\"/>"
   ]
  },
  {
   "cell_type": "markdown",
   "metadata": {
    "slideshow": {
     "slide_type": "slide"
    }
   },
   "source": [
    "## Using Bayesian optimisation to design skateboard shoes!"
   ]
  },
  {
   "cell_type": "markdown",
   "metadata": {
    "slideshow": {
     "slide_type": "slide"
    }
   },
   "source": [
    "<img src=\"img/final_shoe.jpg\" style=\"width: 1200px; margin-left: auto; margin-right: auto;\"/>"
   ]
  },
  {
   "cell_type": "markdown",
   "metadata": {
    "slideshow": {
     "slide_type": "slide"
    }
   },
   "source": [
    "<img src=\"img/shoe_profile.png\" style=\"width:1000px; margin-left: auto; margin-right: auto;\"/>"
   ]
  },
  {
   "cell_type": "markdown",
   "metadata": {
    "slideshow": {
     "slide_type": "slide"
    }
   },
   "source": [
    "<video controls src=\"img/grip.mp4\" style=\"width: 100%; margin-left: auto; margin-right: auto;\"/>"
   ]
  },
  {
   "cell_type": "markdown",
   "metadata": {
    "slideshow": {
     "slide_type": "slide"
    }
   },
   "source": [
    "<img src=\"img/shoe_overview.png\" style=\"width: 100%; margin-left: auto; margin-right: auto;\"/>"
   ]
  },
  {
   "cell_type": "markdown",
   "metadata": {
    "slideshow": {
     "slide_type": "slide"
    }
   },
   "source": [
    "<img src=\"img/grip2.gif\" style=\"height: 800px; margin-left: auto; margin-right: auto;\"/>"
   ]
  },
  {
   "cell_type": "markdown",
   "metadata": {
    "slideshow": {
     "slide_type": "slide"
    }
   },
   "source": [
    "<img src=\"img/sole.gif\" style=\"width: 100%; margin-left: auto; margin-right: auto;\"/>"
   ]
  },
  {
   "cell_type": "markdown",
   "metadata": {
    "slideshow": {
     "slide_type": "slide"
    }
   },
   "source": [
    "<video controls src=\"img/sole.mp4\" style=\"width: 100%; margin-left: auto; margin-right: auto;\"/>"
   ]
  },
  {
   "cell_type": "markdown",
   "metadata": {
    "slideshow": {
     "slide_type": "slide"
    }
   },
   "source": [
    "## Using Bayesian optimisation in aesthetics"
   ]
  },
  {
   "cell_type": "markdown",
   "metadata": {
    "slideshow": {
     "slide_type": "slide"
    }
   },
   "source": [
    "`not all products need to be engineered...`\n",
    "\n",
    "`those that aren't are desirable because they look or feel good`\n",
    "\n",
    "`what looks or feels good is subjective...`\n",
    "\n",
    "`so we need to learn some underlying utility to make improvements`"
   ]
  },
  {
   "cell_type": "code",
   "execution_count": null,
   "metadata": {
    "slideshow": {
     "slide_type": "skip"
    }
   },
   "outputs": [],
   "source": [
    "class PreferenceBasedGP(object):\n",
    "    def __init__(self, r, c, z, theta):\n",
    "        self.r = r\n",
    "        self.c = c\n",
    "        self.z = z\n",
    "        self.theta = theta\n",
    "        self.preferences, self.X = self._get_preferences()\n",
    "        self.L = self._get_L()\n",
    "        self.Y = None\n",
    "        self.Y_guess = None\n",
    "    \n",
    "    def _get_preferences(self):\n",
    "        x2ind = {}\n",
    "        ind = 0\n",
    "        prefinds = []\n",
    "        for i in range(len(self.z)):\n",
    "            if self.r[i] not in x2ind:\n",
    "                x2ind[self.r[i]] = ind\n",
    "                ind += 1\n",
    "            if self.c[i] not in x2ind:\n",
    "                x2ind[self.c[i]] = ind\n",
    "                ind += 1\n",
    "            prefinds.append((x2ind[self.r[i]], x2ind[self.c[i]], self.z[i]))\n",
    "        X = np.array([[x] for x, _ in sorted(x2ind.items(), key=lambda x:x[1])])\n",
    "        return prefinds, X\n",
    "    \n",
    "    def get_covar(self, x, theta):\n",
    "        n, m = x.shape\n",
    "        K = np.zeros((n, n))\n",
    "        for i in range(n):\n",
    "            for j in range(i+1, n):\n",
    "                D = (1/theta[0:m]) * (x[i] - x[j]) ** 2\n",
    "                K[i,j] = np.exp(-sum(D))\n",
    "                K[j,i] = K[i,j]\n",
    "        return K + theta[m]*np.eye(n) + np.eye(n)\n",
    "    \n",
    "    def _get_L(self):\n",
    "        K = self.get_covar(self.X, self.theta)\n",
    "        L = np.linalg.cholesky(K)\n",
    "        return L\n",
    "    \n",
    "    def _get_initial_guess(self):\n",
    "        vs = set(self.r)\n",
    "        lastY = {}\n",
    "        ymin = -0.5\n",
    "        ymax = 0.5\n",
    "        \n",
    "        if self.Y is None:\n",
    "            start = []\n",
    "            for x in self.X.tolist():\n",
    "                if tuple(x) in lastY:\n",
    "                    start.append(lastY[tuple(x)])\n",
    "                else:\n",
    "                    if tuple(x) in vs:\n",
    "                        start.append(ymax)\n",
    "                    else:\n",
    "                        start.append(ymin)\n",
    "        else:\n",
    "            for x, y in zip(self.X.tolist(), self.Y):\n",
    "                lastY[tuple(x)] = y\n",
    "            start = []\n",
    "            for x in self.X.tolist():\n",
    "                if tuple(x) in lastY:\n",
    "                    start.append(lastY[tuple(x)])\n",
    "                else:\n",
    "                    if tuple(x) in vs:\n",
    "                        start.append(ymax)\n",
    "                    else:\n",
    "                        start.append(ymin)\n",
    "        return start\n",
    "    \n",
    "    def CDF(self, x):\n",
    "        return 0.5 * (1 + self.erf((x) * 0.707106))\n",
    "            \n",
    "    def PDF(self, x):\n",
    "        return  np.exp(-(x**2/2)) * 0.398942\n",
    "    \n",
    "    def erf(self, z):\n",
    "        t = 1.0 / (1.0 + 0.5 * np.abs(z))\n",
    "        # use Horner's method\n",
    "        ans = 1 - t * np.exp( -z*z -  1.26551223 +\n",
    "                                    t * ( 1.00002368 +\n",
    "                                    t * ( 0.37409196 + \n",
    "                                    t * ( 0.09678418 + \n",
    "                                    t * (-0.18628806 + \n",
    "                                    t * ( 0.27886807 + \n",
    "                                    t * (-1.13520398 + \n",
    "                                    t * ( 1.48851587 + \n",
    "                                    t * (-0.82215223 + \n",
    "                                    t * ( 0.17087277))))))))))\n",
    "        \n",
    "        if isinstance(ans, np.float64): \n",
    "            if z < 0.0:\n",
    "                ans = -ans\n",
    "        else:\n",
    "            ans[z<0.0] = -ans[z<0.0]            \n",
    "        return ans\n",
    "            \n",
    "    \n",
    "    def S(self, x):\n",
    "        logCDFs = 0.\n",
    "        sigma = 1\n",
    "        epsilon = 1e-10\n",
    "        Z = np.sqrt(2) * sigma\n",
    "        for v, u, d in self.preferences:\n",
    "            logCDFs += (d+1) * np.log(self.CDF((x[v]-x[u])/Z)+epsilon)\n",
    "            Lx = np.linalg.solve(self.L, x)\n",
    "            val = -logCDFs + np.dot(Lx, Lx)/2\n",
    "        return val\n",
    "        \n",
    "    def train(self):\n",
    "        y_guess = self._get_initial_guess()\n",
    "        result = so.minimize(self.S, y_guess)\n",
    "        self.Y = result.x\n",
    "        \n",
    "    def predict(self, xpred):\n",
    "        n, m = self.X.shape\n",
    "        if self.theta is None:\n",
    "            raise 'Need to train before predict'\n",
    "        K = self.get_covar(self.X, self.theta)\n",
    "        K_xpred = self.get_covar(xpred, self.theta)\n",
    "\n",
    "        npred = len(xpred)\n",
    "        K_aug = np.zeros((npred, n))\n",
    "        for i in range(npred):\n",
    "            for j in range(n):\n",
    "                D = (1/self.theta[0:m]) * (xpred[i] - self.X[j]) ** 2\n",
    "                K_aug[i,j] = np.exp(-sum(D))\n",
    "        \n",
    "        # using chol\n",
    "        L = np.linalg.cholesky(K)\n",
    "        Lr = np.linalg.solve(L, K_aug.T)\n",
    "        mubar = np.dot(Lr.T, np.linalg.solve(L, self.Y))\n",
    "        s2bar = np.clip(K_xpred - np.dot(Lr.T, np.linalg.solve(L, K_aug.T)), 1e-10, np.inf)\n",
    "        sbar = np.sqrt(np.abs(np.diag(s2bar)))\n",
    "        return mubar.flatten(), sbar.flatten()\n",
    "    \n",
    "    def ei(self, xpred):\n",
    "        ypred, spred = self.predict(xpred)\n",
    "        ymax = max(self.Y)\n",
    "        ydiff = ypred - ymax\n",
    "        Z = ydiff / spred\n",
    "        exp_imp = (ydiff * self.CDF(Z)) + (spred * self.PDF(Z))\n",
    "        return exp_imp\n",
    "    \n",
    "    def negei(self, xpred):\n",
    "        exp_imp = self.ei(np.array([xpred]))\n",
    "        return -exp_imp\n",
    "    \n",
    "    def add_data(self, r, c, z):\n",
    "        for i in r: self.r.append(i)\n",
    "        for j in c: self.c.append(j)\n",
    "        for k in z: self.z.append(k)\n",
    "        self.preferences, self.X = self._get_preferences()\n",
    "        self.L = self._get_L()\n",
    "        self.train()    "
   ]
  },
  {
   "cell_type": "code",
   "execution_count": null,
   "metadata": {
    "slideshow": {
     "slide_type": "skip"
    }
   },
   "outputs": [],
   "source": [
    "from PIL import Image\n",
    "\n",
    "def change_contrast(x):\n",
    "    img = Image.open(\"img/warhol.jpeg\")\n",
    "    img.load()\n",
    "    level = (1000 * x) - 500\n",
    "    factor = (259 * (level+255)) / (255 * (259-level))\n",
    "    for x in range(img.size[0]):\n",
    "        for y in range(img.size[1]):\n",
    "            color = img.getpixel((x, y))\n",
    "            new_color = tuple(int(factor * (c-128) + 128) for c in color)\n",
    "            img.putpixel((x, y), new_color)\n",
    "    return img"
   ]
  },
  {
   "cell_type": "code",
   "execution_count": null,
   "metadata": {
    "slideshow": {
     "slide_type": "skip"
    }
   },
   "outputs": [],
   "source": [
    "plt.close()\n",
    "np.random.seed(30786)\n",
    "n = 5\n",
    "xn = lhs(1,n)\n",
    "left_value = np.random.random()\n",
    "right_value = xn[0][0]\n",
    "\n",
    "pref_out_left=widgets.Output()\n",
    "pref_out_right=widgets.Output()\n",
    "\n",
    "pref_button_left=widgets.Button(description='Left is best')\n",
    "pref_button_right=widgets.Button(description='Right is best')\n",
    "\n",
    "pref_box=widgets.HBox(children=(widgets.VBox(children=(pref_out_left, pref_button_left)),\n",
    "                            widgets.VBox(children=(pref_out_right, pref_button_right))))\n",
    "\n",
    "class PrefClicks:\n",
    "    def __init__(self, left_value, right_value, xn):\n",
    "        self.i = 0\n",
    "        self.left_value = left_value\n",
    "        self.right_value = right_value\n",
    "        self.xn = xn\n",
    "        self.n = len(xn)\n",
    "        self.r = []\n",
    "        self.c = []\n",
    "        self.z = []\n",
    "        #self.gp = None\n",
    "    \n",
    "    def click_left(self, b):\n",
    "        if b is not None:\n",
    "            self.i += 1\n",
    "            self.r.append(self.left_value)\n",
    "            self.c.append(self.right_value)\n",
    "            self.z.append(1)\n",
    "        if self.i == self.n:\n",
    "            self.gp = PreferenceBasedGP(r=self.r, c=self.c, z=self.z, theta=np.array([0.05, 0.005]))\n",
    "            self.gp.train()\n",
    "            xmin, ymin = multistart_minimize(self.gp.negei, bounds=[(0, 1)])\n",
    "            self.right_value = xmin[0]\n",
    "        elif self.i > self.n:\n",
    "            self.gp.add_data(r=[self.left_value], c=[self.right_value], z = [1])\n",
    "            xmin, ymin = multistart_minimize(self.gp.negei, bounds=[(0, 1)])\n",
    "            self.right_value = xmin[0]\n",
    "        else:\n",
    "            if self.i > 0:\n",
    "                self.right_value = self.xn[self.i][0]\n",
    "        img_right = change_contrast(self.right_value)\n",
    "        ax_right.imshow(np.asarray(img_right))\n",
    "        with pref_out_right:\n",
    "            clear_output(wait=True)\n",
    "            display(ax_right.figure)\n",
    "\n",
    "    def click_right(self, b):\n",
    "        if b is not None:\n",
    "            self.i += 1\n",
    "            self.r.append(self.left_value)\n",
    "            self.c.append(self.right_value)\n",
    "            self.z.append(0)\n",
    "        if self.i == self.n:\n",
    "            self.gp = PreferenceBasedGP(r=self.r, c=self.c, z=self.z, theta=np.array([0.05, 0.005]))\n",
    "            self.gp.train()\n",
    "            xmin, ymin = multistart_minimize(self.gp.negei, bounds=[(0, 1)])\n",
    "            self.left_value = xmin[0]\n",
    "        elif self.i > self.n:\n",
    "            self.gp.add_data(r=[self.left_value], c=[self.right_value], z = [0])\n",
    "            xmin, ymin = multistart_minimize(self.gp.negei, bounds=[(0, 1)])\n",
    "            self.left_value = xmin[0]\n",
    "        else:\n",
    "            if self.i > 0:\n",
    "                self.left_value = self.xn[self.i][0]\n",
    "        img_left = change_contrast(self.left_value)\n",
    "        ax_left.imshow(np.asarray(img_left))\n",
    "        with pref_out_left:\n",
    "            clear_output(wait=True)\n",
    "            display(ax_left.figure)\n",
    "\n",
    "plt.cla()\n",
    "plt.ioff()\n",
    "ax_left = plt.gca()\n",
    "ax_left.axis('off')\n",
    "\n",
    "plt.ioff()\n",
    "ax_right = plt.gca()\n",
    "ax_right.axis('off')\n",
    "\n",
    "pref_clicks = PrefClicks(left_value, right_value, xn)\n",
    "pref_button_left.on_click(pref_clicks.click_left)\n",
    "pref_button_right.on_click(pref_clicks.click_right)"
   ]
  },
  {
   "cell_type": "code",
   "execution_count": null,
   "metadata": {
    "slideshow": {
     "slide_type": "slide"
    }
   },
   "outputs": [],
   "source": [
    "display(pref_box)\n",
    "pref_clicks.click_left(None)\n",
    "pref_clicks.click_right(None)"
   ]
  },
  {
   "cell_type": "code",
   "execution_count": null,
   "metadata": {
    "slideshow": {
     "slide_type": "skip"
    }
   },
   "outputs": [],
   "source": [
    "def gp_pref():\n",
    "    ni = 50\n",
    "    xi = np.linspace(0, 1, ni).reshape(ni,1)\n",
    "\n",
    "    gp_pref = plt.figure(figsize=(20,10))\n",
    "    plt.subplot(121)\n",
    "    plt.scatter(pref_clicks.gp.X, pref_clicks.gp.Y, label='Observations')\n",
    "    ypred, spred = pref_clicks.gp.predict(xi)\n",
    "    ei = pref_clicks.gp.ei(xi)\n",
    "    plt.plot(xi, ypred, color=(0.122, 0.529, 0.8), label='GP utility prediction')\n",
    "    plt.fill_between(xi.flatten(), ypred+2*spred, ypred-2*spred, color=(0.122, 0.529, 0.8, 0.2))\n",
    "    plt.xlabel('Design parameter value $x_1$')\n",
    "    plt.ylabel('Objective value $f(x_1)$')  \n",
    "\n",
    "    plt.subplot(122)\n",
    "    plt.plot(xi, ei, color=(1.0, 0.56, 0.06))\n",
    "    plt.xlabel('Design parameter value $x_1$')\n",
    "    plt.ylabel('Expected improvement $EI(f(x_1) > y_{max})$')\n",
    "    return gp_pref"
   ]
  },
  {
   "cell_type": "code",
   "execution_count": null,
   "metadata": {
    "slideshow": {
     "slide_type": "slide"
    }
   },
   "outputs": [],
   "source": [
    "# uncomment and run to see the latent utility objective\n",
    "#gp_pref()"
   ]
  },
  {
   "cell_type": "markdown",
   "metadata": {
    "slideshow": {
     "slide_type": "slide"
    }
   },
   "source": [
    "<img src=\"img/smoke.gif\" style=\"height:600px; margin-left: auto; margin-right: auto;\"/>"
   ]
  },
  {
   "cell_type": "code",
   "execution_count": null,
   "metadata": {
    "slideshow": {
     "slide_type": "skip"
    }
   },
   "outputs": [],
   "source": [
    "import subprocess\n",
    "def get_plume(x):\n",
    "    source_velocity = 4*x[0]\n",
    "    normal_velocity = 6*x[1] - 2\n",
    "    file_name = 'sample_test' \n",
    "    # run simulation\n",
    "    blender_path = '/Applications/Blender/blender.app/Contents/MacOS/blender'\n",
    "    p = subprocess.call('{} --python run_blender.py -- {} {} {}'.format(blender_path, source_velocity, normal_velocity, file_name), shell=True)"
   ]
  },
  {
   "cell_type": "code",
   "execution_count": null,
   "metadata": {
    "slideshow": {
     "slide_type": "slide"
    }
   },
   "outputs": [],
   "source": [
    "# if you have blender installed try this...\n",
    "#get_plume([0.9195404,  0.03777169])"
   ]
  },
  {
   "cell_type": "markdown",
   "metadata": {
    "slideshow": {
     "slide_type": "slide"
    }
   },
   "source": [
    "<img src=\"img/smoke_overview.png\" style=\"width: 100%; margin-left: auto; margin-right: auto;\"/>"
   ]
  },
  {
   "cell_type": "markdown",
   "metadata": {
    "slideshow": {
     "slide_type": "slide"
    }
   },
   "source": [
    "<img src=\"img/smoke_step.gif\" style=\"width:100%; margin-left: auto; margin-right: auto;\"/>"
   ]
  },
  {
   "cell_type": "markdown",
   "metadata": {
    "slideshow": {
     "slide_type": "slide"
    }
   },
   "source": [
    "`thanks for listening`\n",
    "\n",
    "`... full talk available at`\n",
    "https://youtu.be/DUWQiLAvr5I"
   ]
  }
 ],
 "metadata": {
  "celltoolbar": "Initialization Cell",
  "kernelspec": {
   "display_name": "RISE",
   "language": "python",
   "name": "rise"
  },
  "language_info": {
   "codemirror_mode": {
    "name": "ipython",
    "version": 3
   },
   "file_extension": ".py",
   "mimetype": "text/x-python",
   "name": "python",
   "nbconvert_exporter": "python",
   "pygments_lexer": "ipython3",
   "version": "3.6.5"
  },
  "rise": {
   "autolaunch": true
  },
  "widgets": {
   "state": {
    "970dd205e2884a77aa52904d7da92e63": {
     "views": [
      {
       "cell_index": 44
      }
     ]
    }
   },
   "version": "1.2.0"
  }
 },
 "nbformat": 4,
 "nbformat_minor": 1
}
